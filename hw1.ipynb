{
 "cells": [
  {
   "cell_type": "markdown",
   "id": "ae90c4df",
   "metadata": {},
   "source": [
    "# План домашней работы\n",
    "1. Реализовать алгоритмы **item2item**, **ALS**, **IALS** (2 балл за каждый)\n",
    "2. Посчитать метрику предсказаний **MRR@100** выбрасывая случайный лайк пользователя (2 балла)\n",
    "\n",
    "Будем решать задачу предсказания: на 4/5 пользователей учимся, на 1/5 выбрасываем случайный лайк и пытаемся предсказать его беря топ 100 наших лучших предсказаний для этого пользователя.\n",
    "\n",
    "MRR@100 будет равно $1/(p+1)$, где $p$ - позиция на которой оказался выброшенный лайк в нашем ранжировании и 0 если в топ 100 его не было.\n",
    "\n",
    "3. Подобрать параметры алгоритмов для максимизации MRR@100 (1 балл)\n",
    "4. Сравнить похожести айтемов получаюшиеся для item2item, ALS, IALS (1 балл)\n",
    "\n",
    "Замерить насколько получаются похожими топы похожестей. Так же рекомендуется взять 5-топовых (или любимых) статей и посмотреть на похожести которые получаются для них в разных алгоритмах."
   ]
  },
  {
   "cell_type": "markdown",
   "id": "0b51dba6",
   "metadata": {},
   "source": [
    "### Обозначения:\n",
    "1. item_id - уникальный id айтема (статьи).\n",
    "2. user_id - уникальный id пользователя.\n",
    "3. source_id - уникальный id автора. Если у двух айтемов совпадают source_id, то это статьи одного автора.\n",
    "4. Название айтема - это название статьи.\n",
    "5. В датасете хранится user_id и список айтемов item_ids, с которыми пользователь положительно провзаимодействовал."
   ]
  },
  {
   "cell_type": "markdown",
   "id": "4f167286",
   "metadata": {},
   "source": [
    "### Ссылки на датасет Дзена:\n",
    "\n",
    "1. Датасет: https://disk.yandex.ru/d/uUx1MMsZUR87Sw\n",
    "2. Названия айтемов: https://disk.yandex.ru/d/_ZMXsmki-OtLJA\n",
    "3. Линки между item_id и source_id: https://disk.yandex.ru/d/GCryohhLbYPFoA"
   ]
  },
  {
   "cell_type": "markdown",
   "id": "b7468264",
   "metadata": {},
   "source": [
    "# Разбираемся с датасетом Дзена"
   ]
  },
  {
   "cell_type": "code",
   "execution_count": 74,
   "id": "51630f5f",
   "metadata": {
    "ExecuteTime": {
     "end_time": "2023-06-07T21:31:43.942096Z",
     "start_time": "2023-06-07T21:31:43.139524Z"
    }
   },
   "outputs": [],
   "source": [
    "import numpy as np\n",
    "import pandas as pd\n",
    "import scipy.sparse as sp\n",
    "from tqdm.notebook import tqdm\n",
    "from implicit.nearest_neighbours import ItemItemRecommender"
   ]
  },
  {
   "cell_type": "code",
   "execution_count": 2,
   "id": "90965805",
   "metadata": {
    "ExecuteTime": {
     "end_time": "2023-06-07T21:31:45.414950Z",
     "start_time": "2023-06-07T21:31:44.581759Z"
    }
   },
   "outputs": [],
   "source": [
    "all_names = pd.read_json(\"data/item_id_to_name.json\", lines=False)\n",
    "item_links = pd.read_json(\"data/item_id_to_source_id.json\", lines=False)\n",
    "dataset = pd.read_json(\"data/dataset_zen.json\", lines=False)"
   ]
  },
  {
   "cell_type": "code",
   "execution_count": 3,
   "id": "cb0aa9e5",
   "metadata": {
    "ExecuteTime": {
     "end_time": "2023-06-07T21:31:47.066054Z",
     "start_time": "2023-06-07T21:31:47.045452Z"
    }
   },
   "outputs": [
    {
     "data": {
      "text/html": [
       "<div>\n",
       "<style scoped>\n",
       "    .dataframe tbody tr th:only-of-type {\n",
       "        vertical-align: middle;\n",
       "    }\n",
       "\n",
       "    .dataframe tbody tr th {\n",
       "        vertical-align: top;\n",
       "    }\n",
       "\n",
       "    .dataframe thead th {\n",
       "        text-align: right;\n",
       "    }\n",
       "</style>\n",
       "<table border=\"1\" class=\"dataframe\">\n",
       "  <thead>\n",
       "    <tr style=\"text-align: right;\">\n",
       "      <th></th>\n",
       "      <th>id</th>\n",
       "      <th>source</th>\n",
       "    </tr>\n",
       "  </thead>\n",
       "  <tbody>\n",
       "    <tr>\n",
       "      <th>0</th>\n",
       "      <td>94962</td>\n",
       "      <td>2919814402697966089</td>\n",
       "    </tr>\n",
       "    <tr>\n",
       "      <th>1</th>\n",
       "      <td>3972</td>\n",
       "      <td>3263022753228392991</td>\n",
       "    </tr>\n",
       "    <tr>\n",
       "      <th>2</th>\n",
       "      <td>94644</td>\n",
       "      <td>-3857390427602554682</td>\n",
       "    </tr>\n",
       "    <tr>\n",
       "      <th>3</th>\n",
       "      <td>82518</td>\n",
       "      <td>-9036908390349249792</td>\n",
       "    </tr>\n",
       "    <tr>\n",
       "      <th>4</th>\n",
       "      <td>53264</td>\n",
       "      <td>3353856219169766284</td>\n",
       "    </tr>\n",
       "    <tr>\n",
       "      <th>...</th>\n",
       "      <td>...</td>\n",
       "      <td>...</td>\n",
       "    </tr>\n",
       "    <tr>\n",
       "      <th>104498</th>\n",
       "      <td>36769</td>\n",
       "      <td>3818746211375738614</td>\n",
       "    </tr>\n",
       "    <tr>\n",
       "      <th>104499</th>\n",
       "      <td>9190</td>\n",
       "      <td>4975535765688979937</td>\n",
       "    </tr>\n",
       "    <tr>\n",
       "      <th>104500</th>\n",
       "      <td>52731</td>\n",
       "      <td>3720366796439288909</td>\n",
       "    </tr>\n",
       "    <tr>\n",
       "      <th>104501</th>\n",
       "      <td>72660</td>\n",
       "      <td>-7860042973720636310</td>\n",
       "    </tr>\n",
       "    <tr>\n",
       "      <th>104502</th>\n",
       "      <td>53987</td>\n",
       "      <td>-1613465697218833842</td>\n",
       "    </tr>\n",
       "  </tbody>\n",
       "</table>\n",
       "<p>104503 rows × 2 columns</p>\n",
       "</div>"
      ],
      "text/plain": [
       "           id               source\n",
       "0       94962  2919814402697966089\n",
       "1        3972  3263022753228392991\n",
       "2       94644 -3857390427602554682\n",
       "3       82518 -9036908390349249792\n",
       "4       53264  3353856219169766284\n",
       "...       ...                  ...\n",
       "104498  36769  3818746211375738614\n",
       "104499   9190  4975535765688979937\n",
       "104500  52731  3720366796439288909\n",
       "104501  72660 -7860042973720636310\n",
       "104502  53987 -1613465697218833842\n",
       "\n",
       "[104503 rows x 2 columns]"
      ]
     },
     "execution_count": 3,
     "metadata": {},
     "output_type": "execute_result"
    }
   ],
   "source": [
    "item_links"
   ]
  },
  {
   "cell_type": "code",
   "execution_count": 4,
   "id": "f788e369",
   "metadata": {
    "ExecuteTime": {
     "end_time": "2023-06-07T21:31:47.943529Z",
     "start_time": "2023-06-07T21:31:47.920699Z"
    }
   },
   "outputs": [
    {
     "data": {
      "text/html": [
       "<div>\n",
       "<style scoped>\n",
       "    .dataframe tbody tr th:only-of-type {\n",
       "        vertical-align: middle;\n",
       "    }\n",
       "\n",
       "    .dataframe tbody tr th {\n",
       "        vertical-align: top;\n",
       "    }\n",
       "\n",
       "    .dataframe thead th {\n",
       "        text-align: right;\n",
       "    }\n",
       "</style>\n",
       "<table border=\"1\" class=\"dataframe\">\n",
       "  <thead>\n",
       "    <tr style=\"text-align: right;\">\n",
       "      <th></th>\n",
       "      <th>user_id</th>\n",
       "      <th>item_ids</th>\n",
       "    </tr>\n",
       "  </thead>\n",
       "  <tbody>\n",
       "    <tr>\n",
       "      <th>0</th>\n",
       "      <td>993675863667353526</td>\n",
       "      <td>[15267, 61075, 81203, 17066, 25471, 88427, 638...</td>\n",
       "    </tr>\n",
       "    <tr>\n",
       "      <th>1</th>\n",
       "      <td>4250619547882954185</td>\n",
       "      <td>[4555, 94644, 84972, 17774, 94962, 78217, 2485...</td>\n",
       "    </tr>\n",
       "    <tr>\n",
       "      <th>2</th>\n",
       "      <td>3847785305345691076</td>\n",
       "      <td>[1898, 26703, 16525, 86939, 55017, 31069, 4035...</td>\n",
       "    </tr>\n",
       "    <tr>\n",
       "      <th>3</th>\n",
       "      <td>1785181112918558233</td>\n",
       "      <td>[75601, 102458, 28716, 100694, 5757, 47104, 60...</td>\n",
       "    </tr>\n",
       "    <tr>\n",
       "      <th>4</th>\n",
       "      <td>5078748097863903181</td>\n",
       "      <td>[72260, 40825, 2615, 42549, 379, 100818, 56827...</td>\n",
       "    </tr>\n",
       "    <tr>\n",
       "      <th>...</th>\n",
       "      <td>...</td>\n",
       "      <td>...</td>\n",
       "    </tr>\n",
       "    <tr>\n",
       "      <th>75905</th>\n",
       "      <td>4954138831959898373</td>\n",
       "      <td>[11881, 55520, 63054, 48015, 66952, 103830, 21...</td>\n",
       "    </tr>\n",
       "    <tr>\n",
       "      <th>75906</th>\n",
       "      <td>4967793435819938014</td>\n",
       "      <td>[74697, 11830, 63858, 87245, 41956, 62089, 686...</td>\n",
       "    </tr>\n",
       "    <tr>\n",
       "      <th>75907</th>\n",
       "      <td>7137764184903122777</td>\n",
       "      <td>[10353, 1775, 103680, 29704, 9782, 13295, 9975...</td>\n",
       "    </tr>\n",
       "    <tr>\n",
       "      <th>75908</th>\n",
       "      <td>2624987805086334956</td>\n",
       "      <td>[24324, 18854, 73319, 66641, 64078, 97387, 426...</td>\n",
       "    </tr>\n",
       "    <tr>\n",
       "      <th>75909</th>\n",
       "      <td>4022390127079841428</td>\n",
       "      <td>[64748, 64490, 99490, 80080, 8419, 84702, 7582...</td>\n",
       "    </tr>\n",
       "  </tbody>\n",
       "</table>\n",
       "<p>75910 rows × 2 columns</p>\n",
       "</div>"
      ],
      "text/plain": [
       "                   user_id                                           item_ids\n",
       "0       993675863667353526  [15267, 61075, 81203, 17066, 25471, 88427, 638...\n",
       "1      4250619547882954185  [4555, 94644, 84972, 17774, 94962, 78217, 2485...\n",
       "2      3847785305345691076  [1898, 26703, 16525, 86939, 55017, 31069, 4035...\n",
       "3      1785181112918558233  [75601, 102458, 28716, 100694, 5757, 47104, 60...\n",
       "4      5078748097863903181  [72260, 40825, 2615, 42549, 379, 100818, 56827...\n",
       "...                    ...                                                ...\n",
       "75905  4954138831959898373  [11881, 55520, 63054, 48015, 66952, 103830, 21...\n",
       "75906  4967793435819938014  [74697, 11830, 63858, 87245, 41956, 62089, 686...\n",
       "75907  7137764184903122777  [10353, 1775, 103680, 29704, 9782, 13295, 9975...\n",
       "75908  2624987805086334956  [24324, 18854, 73319, 66641, 64078, 97387, 426...\n",
       "75909  4022390127079841428  [64748, 64490, 99490, 80080, 8419, 84702, 7582...\n",
       "\n",
       "[75910 rows x 2 columns]"
      ]
     },
     "execution_count": 4,
     "metadata": {},
     "output_type": "execute_result"
    }
   ],
   "source": [
    "dataset"
   ]
  },
  {
   "cell_type": "code",
   "execution_count": 5,
   "id": "e8820e36",
   "metadata": {
    "ExecuteTime": {
     "end_time": "2023-06-07T21:31:55.339206Z",
     "start_time": "2023-06-07T21:31:51.973369Z"
    }
   },
   "outputs": [],
   "source": [
    "total_interactions_count = dataset.item_ids.map(len).sum()\n",
    "user_coo = np.zeros(total_interactions_count, dtype=np.int64)\n",
    "item_coo = np.zeros(total_interactions_count, dtype=np.int64)\n",
    "pos = 0\n",
    "\n",
    "for user_id, item_ids in enumerate(dataset.item_ids):\n",
    "    user_coo[pos:pos+len(item_ids)] = user_id\n",
    "    item_coo[pos:pos+len(item_ids)] = item_ids\n",
    "    pos += len(item_ids)\n",
    "shape = (max(user_coo) + 1, max(item_coo) + 1)\n",
    "user_item_matrix = sp.coo_matrix((np.ones(len(user_coo)), (user_coo, item_coo)), shape=shape)\n",
    "user_item_matrix = user_item_matrix.tocsr()\n",
    "sp.save_npz(\"data_train.npz\", user_item_matrix)\n",
    "# Cleanup memory. Later you need just data_train.npz\n",
    "del user_coo\n",
    "del item_coo\n",
    "del dataset"
   ]
  },
  {
   "cell_type": "code",
   "execution_count": 6,
   "id": "b694e04f",
   "metadata": {
    "ExecuteTime": {
     "end_time": "2023-06-07T21:32:04.714869Z",
     "start_time": "2023-06-07T21:32:04.568491Z"
    }
   },
   "outputs": [],
   "source": [
    "user_item_matrix = sp.load_npz(\"data_train.npz\")"
   ]
  },
  {
   "cell_type": "code",
   "execution_count": 7,
   "id": "2eacfa5e",
   "metadata": {
    "ExecuteTime": {
     "end_time": "2023-06-07T21:32:17.252065Z",
     "start_time": "2023-06-07T21:32:17.239886Z"
    }
   },
   "outputs": [
    {
     "data": {
      "text/plain": [
       "<75910x104503 sparse matrix of type '<class 'numpy.float64'>'\n",
       "\twith 5792423 stored elements in Compressed Sparse Row format>"
      ]
     },
     "execution_count": 7,
     "metadata": {},
     "output_type": "execute_result"
    }
   ],
   "source": [
    "user_item_matrix"
   ]
  },
  {
   "cell_type": "code",
   "execution_count": 8,
   "id": "4cd37f54",
   "metadata": {
    "ExecuteTime": {
     "end_time": "2023-06-07T21:32:24.023986Z",
     "start_time": "2023-06-07T21:32:23.942940Z"
    }
   },
   "outputs": [],
   "source": [
    "item_weights = np.array(user_item_matrix.tocsc().sum(0))[0]\n",
    "top_to_bottom_order = np.argsort(-item_weights)\n",
    "item_mapping = np.empty(top_to_bottom_order.shape, dtype=int)\n",
    "item_mapping[top_to_bottom_order] = np.arange(len(top_to_bottom_order))\n",
    "total_item_count = (item_weights > 0).sum()\n",
    "total_user_count = user_item_matrix.shape[0]\n",
    "\n",
    "def build_dataset(user_item_matrix, item_pct, user_pct):\n",
    "    user_count, item_count = int(total_user_count * user_pct), int(total_item_count * item_pct)\n",
    "    item_ids = top_to_bottom_order[:item_count]\n",
    "    user_ids = np.random.choice(np.arange(user_item_matrix.shape[0]), size=user_count, replace=False)\n",
    "    train = user_item_matrix[user_ids]\n",
    "    train = train[:, item_ids]\n",
    "    return train"
   ]
  },
  {
   "cell_type": "code",
   "execution_count": 9,
   "id": "678c5a52",
   "metadata": {
    "ExecuteTime": {
     "end_time": "2023-06-07T21:32:24.803339Z",
     "start_time": "2023-06-07T21:32:24.782858Z"
    }
   },
   "outputs": [],
   "source": [
    "small_dataset = build_dataset(user_item_matrix, 0.05, 0.05)"
   ]
  },
  {
   "cell_type": "code",
   "execution_count": 10,
   "id": "911fac46",
   "metadata": {
    "ExecuteTime": {
     "end_time": "2023-06-07T21:32:28.677885Z",
     "start_time": "2023-06-07T21:32:28.669489Z"
    }
   },
   "outputs": [
    {
     "data": {
      "text/plain": [
       "<3795x5019 sparse matrix of type '<class 'numpy.float64'>'\n",
       "\twith 135873 stored elements in Compressed Sparse Row format>"
      ]
     },
     "execution_count": 10,
     "metadata": {},
     "output_type": "execute_result"
    }
   ],
   "source": [
    "small_dataset"
   ]
  },
  {
   "cell_type": "markdown",
   "id": "2058c9d5-25a8-4195-ba1b-efb1036a8d11",
   "metadata": {},
   "source": [
    "## 1. Вспомогательные методы"
   ]
  },
  {
   "cell_type": "code",
   "execution_count": 11,
   "id": "68e3339c-049b-430b-b602-0d63827a4376",
   "metadata": {},
   "outputs": [],
   "source": [
    "def train_test_split(data, percentage=0.8):\n",
    "    test_size = int(data.shape[0] * (1.0 - percentage))\n",
    "\n",
    "    test_user_ids = []\n",
    "    for i in range(data.shape[0]):\n",
    "        if data[i].nnz > 0:\n",
    "            test_user_ids.append(i)\n",
    "        if len(test_user_ids) >= test_size:\n",
    "            break\n",
    "\n",
    "    train_user_ids = np.array(list(set(np.arange(data.shape[0])) - set(test_user_ids)))\n",
    "    test_user_ids = np.array(test_user_ids)\n",
    "    return data[train_user_ids], data[test_user_ids]"
   ]
  },
  {
   "cell_type": "code",
   "execution_count": 12,
   "id": "fd8f6581-3a16-4efc-9f61-614a21cd1f78",
   "metadata": {},
   "outputs": [],
   "source": [
    "def get_mrr(actual, predicted):\n",
    "    result = 0\n",
    "    for i, item_id in enumerate(actual):\n",
    "        pos = np.where(predicted[i] == item_id)[0]\n",
    "        if pos.any():\n",
    "            result += 1 / (pos.item() + 1)\n",
    "    return result / actual.shape[0]"
   ]
  },
  {
   "cell_type": "code",
   "execution_count": 13,
   "id": "d580ac61-0edb-49be-b842-88b97f49b07a",
   "metadata": {},
   "outputs": [],
   "source": [
    "def drop_likes(data):\n",
    "    rows, cols, values = sp.find(data.T)\n",
    "    y = []\n",
    "    for u in range(data.shape[0]):\n",
    "        rand_id = np.random.choice(np.where(cols == u)[0], 1)\n",
    "        values[rand_id] = 0\n",
    "        y.append(rows[rand_id].item())\n",
    "    idx = np.where(values != 0)[0]\n",
    "    return sp.coo_matrix((values[idx], (cols[idx], rows[idx])), shape=data.shape).tocsr(), np.array(y)"
   ]
  },
  {
   "cell_type": "code",
   "execution_count": 94,
   "id": "6ff9a38a-6ffb-4b6a-bdca-e48334b140e8",
   "metadata": {},
   "outputs": [],
   "source": [
    "train, valid = train_test_split(small_dataset, 0.8)\n",
    "test, y = drop_likes(valid)"
   ]
  },
  {
   "cell_type": "markdown",
   "id": "223e3c4f-8ce4-42ed-a875-2d042746ef8e",
   "metadata": {},
   "source": [
    "## 2. Реализация алгоритмов"
   ]
  },
  {
   "cell_type": "markdown",
   "id": "f8727f5e-338d-4162-8c5a-0b8b628ae800",
   "metadata": {},
   "source": [
    "### 2.1 item2item"
   ]
  },
  {
   "cell_type": "markdown",
   "id": "f504e9ac-a97f-4de2-a0a3-e4fae8f192af",
   "metadata": {},
   "source": [
    "Референсы решения:\n",
    "1. https://colab.research.google.com/drive/1Kpqkeqonb0rVMCggKKEGQFsszfXdY7tq#scrollTo=SpjOat_l5DXI - семинар\n",
    "2. https://github.com/nzhinusoftcm/review-on-collaborative-filtering/blob/master/3.Item-basedCollaborativeFiltering.ipynb - англоязычный аналог"
   ]
  },
  {
   "cell_type": "code",
   "execution_count": 19,
   "id": "a9cf699d-5291-4040-a57b-9f84d714611f",
   "metadata": {},
   "outputs": [],
   "source": [
    "import numpy as np\n",
    "import pandas as pd\n",
    "import scipy.sparse as sp\n",
    "from tqdm.notebook import tqdm\n",
    "from sklearn.metrics.pairwise import cosine_similarity\n",
    "from matplotlib import pyplot as plt"
   ]
  },
  {
   "cell_type": "code",
   "execution_count": 20,
   "id": "9530b82f-7ba4-441f-b074-ef58fed7c00d",
   "metadata": {},
   "outputs": [
    {
     "data": {
      "text/plain": [
       "(5019, 5019)"
      ]
     },
     "execution_count": 20,
     "metadata": {},
     "output_type": "execute_result"
    }
   ],
   "source": [
    "item_similarities = cosine_similarity(train.T)\n",
    "item_similarities.shape"
   ]
  },
  {
   "cell_type": "code",
   "execution_count": 21,
   "id": "e09d43a3-2525-4266-8ef1-c85a7b88fba1",
   "metadata": {},
   "outputs": [],
   "source": [
    "# get neighbors by their neighbors in decreasing order of similarities\n",
    "neighbors = np.flip(np.argsort(item_similarities), axis=1)\n",
    "\n",
    "# sort similarities in decreasing order\n",
    "similarities = np.flip(np.sort(item_similarities), axis=1)"
   ]
  },
  {
   "cell_type": "code",
   "execution_count": 22,
   "id": "e9089f15-c1ff-465f-8c7b-fcad346927bd",
   "metadata": {},
   "outputs": [
    {
     "data": {
      "text/plain": [
       "array([4352, 4625, 4853, ..., 3289, 3290, 2509])"
      ]
     },
     "execution_count": 22,
     "metadata": {},
     "output_type": "execute_result"
    }
   ],
   "source": [
    "neighbors[4352]"
   ]
  },
  {
   "cell_type": "code",
   "execution_count": 23,
   "id": "4b1ca573-4cc7-43f5-b53c-c2a12e1fd361",
   "metadata": {},
   "outputs": [],
   "source": [
    "def candidate_items(data, neighbors, userid, k=-1):\n",
    "    _, user_item_ids, _ = sp.find(data[userid])\n",
    "    user_item_ids = set(user_item_ids)\n",
    "    candidates = set()\n",
    "    for item in user_item_ids:\n",
    "        candidates.update(set(neighbors[item][:k]))\n",
    "    candidates -= user_item_ids\n",
    "    return np.array(list(user_item_ids)), np.array(list(candidates))"
   ]
  },
  {
   "cell_type": "code",
   "execution_count": 24,
   "id": "730dc879-318b-4366-a168-b545be101bb4",
   "metadata": {},
   "outputs": [],
   "source": [
    "user_item_ids, u_candidates = candidate_items(test, neighbors, 0, 10)"
   ]
  },
  {
   "cell_type": "code",
   "execution_count": 25,
   "id": "18bda501-e22c-4359-8d77-e70b83e15abc",
   "metadata": {},
   "outputs": [],
   "source": [
    "def similarity_with_user_items(item_id, user_item_ids, similarities, neighbors):\n",
    "    w = 0\n",
    "    for i_id in user_item_ids:\n",
    "        # get similarity between itemid and c, if c is one of the k nearest neighbors of itemid\n",
    "        # your code here\n",
    "        w += similarities[i_id][np.where(neighbors[i_id] == item_id)[0][0]]\n",
    "    return w"
   ]
  },
  {
   "cell_type": "code",
   "execution_count": 26,
   "id": "cecc9777-0e9e-4722-a5aa-626d2a299b7b",
   "metadata": {},
   "outputs": [],
   "source": [
    "def rank_candidates(candidates, user_item_ids, similarities, neighbors):\n",
    "    # list of candidate items mapped to their corresponding similarities to user_item_ids\n",
    "    sims = [similarity_with_user_items(c, user_item_ids, similarities, neighbors) for c in candidates]\n",
    "    # candidates = iencoder.inverse_transform(candidates)\n",
    "    mapping = list(zip(candidates, sims))\n",
    "\n",
    "    ranked_candidates = sorted(mapping, key=lambda couple:couple[1], reverse=True)\n",
    "    return ranked_candidates"
   ]
  },
  {
   "cell_type": "code",
   "execution_count": 27,
   "id": "82ff597e-45f7-425b-8aea-6a37e5ed8c23",
   "metadata": {},
   "outputs": [],
   "source": [
    "def topn_recommendation(data, userid, similarities, neighbors, k=-1, N=100):\n",
    "    # find candidate items\n",
    "    user_item_ids, candidates = candidate_items(data, neighbors, userid, k)\n",
    "\n",
    "    # rank candidate items according to their similarities with user_item_ids\n",
    "    ranked_candidates = rank_candidates(candidates, user_item_ids, similarities, neighbors)\n",
    "\n",
    "    # get the first N row of ranked_candidates to build the top N recommendation list\n",
    "    topn = [i[0] for i in ranked_candidates[:N]]\n",
    "    return topn"
   ]
  },
  {
   "cell_type": "code",
   "execution_count": 28,
   "id": "84640789-913c-4eaa-8785-2f80086a95ad",
   "metadata": {},
   "outputs": [],
   "source": [
    "def predict_top100(data, similarities, neighbors):\n",
    "    predictions = []\n",
    "    for u in tqdm(range(data.shape[0])):\n",
    "        predictions.append(topn_recommendation(data, u, similarities, neighbors, k=-1, N=100))\n",
    "    return predictions"
   ]
  },
  {
   "cell_type": "code",
   "execution_count": 29,
   "id": "3e7f4578-c959-4a8d-9c9f-b9151d006033",
   "metadata": {
    "tags": []
   },
   "outputs": [
    {
     "data": {
      "application/json": {
       "ascii": false,
       "bar_format": null,
       "colour": null,
       "elapsed": 0.009829282760620117,
       "initial": 0,
       "n": 0,
       "ncols": null,
       "nrows": 44,
       "postfix": null,
       "prefix": "",
       "rate": null,
       "total": 758,
       "unit": "it",
       "unit_divisor": 1000,
       "unit_scale": false
      },
      "application/vnd.jupyter.widget-view+json": {
       "model_id": "4b046fd24b184d8c9e9bf14b2cfa3672",
       "version_major": 2,
       "version_minor": 0
      },
      "text/plain": [
       "  0%|          | 0/758 [00:00<?, ?it/s]"
      ]
     },
     "metadata": {},
     "output_type": "display_data"
    }
   ],
   "source": [
    "i2i_preds = predict_top100(test, similarities, neighbors)"
   ]
  },
  {
   "cell_type": "code",
   "execution_count": 30,
   "id": "f5bf2f6e-1773-494f-8350-7b08e10f00cd",
   "metadata": {},
   "outputs": [],
   "source": [
    "def get_mrr(actual, predicted):\n",
    "    result = 0\n",
    "    for i, item_id in enumerate(actual):\n",
    "        pos = np.where(predicted[i] == item_id)[0]\n",
    "        if pos.any():\n",
    "            result += 1 / (pos.item() + 1)\n",
    "    return result / actual.shape[0]"
   ]
  },
  {
   "cell_type": "code",
   "execution_count": 31,
   "id": "93e69ac7-7f1e-4c3f-b47f-e970853457eb",
   "metadata": {},
   "outputs": [
    {
     "data": {
      "text/plain": [
       "0.017973430038211523"
      ]
     },
     "execution_count": 31,
     "metadata": {},
     "output_type": "execute_result"
    }
   ],
   "source": [
    "get_mrr(y, i2i_preds)"
   ]
  },
  {
   "cell_type": "markdown",
   "id": "9c5632c3-7820-4518-aa51-567066267c40",
   "metadata": {
    "tags": []
   },
   "source": [
    "### 2.2 ALS"
   ]
  },
  {
   "cell_type": "code",
   "execution_count": 79,
   "id": "de767ebf-233e-4166-b3bb-0a9ec82aee4f",
   "metadata": {},
   "outputs": [],
   "source": [
    "def calc_oposite_vectors(Y, A, lam=1e-4):\n",
    "    B = Y.T.dot(Y) + lam * sp.eye(Y.shape[1]) # (k x k)\n",
    "    return sp.linalg.inv(B).dot(Y.T).dot(A.T).T"
   ]
  },
  {
   "cell_type": "code",
   "execution_count": 81,
   "id": "549995a4-9555-44fa-8d9d-c6494e2b5b21",
   "metadata": {},
   "outputs": [],
   "source": [
    "def frobenius_norm(data, X, Y):\n",
    "    return (data - X.dot(Y.T)).power(2).sum()"
   ]
  },
  {
   "cell_type": "code",
   "execution_count": 83,
   "id": "d71efff8-07ba-4bee-a67d-b00fd56f36db",
   "metadata": {},
   "outputs": [],
   "source": [
    "k = 100"
   ]
  },
  {
   "cell_type": "code",
   "execution_count": 84,
   "id": "af57586f-442d-45ac-8ddb-daa9a72e423c",
   "metadata": {},
   "outputs": [
    {
     "data": {
      "application/json": {
       "ascii": false,
       "bar_format": null,
       "colour": null,
       "elapsed": 0.004812717437744141,
       "initial": 0,
       "n": 0,
       "ncols": null,
       "nrows": 44,
       "postfix": null,
       "prefix": "",
       "rate": null,
       "total": 20,
       "unit": "it",
       "unit_divisor": 1000,
       "unit_scale": false
      },
      "application/vnd.jupyter.widget-view+json": {
       "model_id": "e49cfc11eafb4332b6ecd51428c6bd8c",
       "version_major": 2,
       "version_minor": 0
      },
      "text/plain": [
       "  0%|          | 0/20 [00:00<?, ?it/s]"
      ]
     },
     "metadata": {},
     "output_type": "display_data"
    },
    {
     "name": "stderr",
     "output_type": "stream",
     "text": [
      "/Users/kr.sivakov/anaconda3/envs/myenv/lib/python3.10/site-packages/scipy/sparse/linalg/_dsolve/linsolve.py:394: SparseEfficiencyWarning: splu converted its input to CSC format\n",
      "  warn('splu converted its input to CSC format', SparseEfficiencyWarning)\n",
      "/Users/kr.sivakov/anaconda3/envs/myenv/lib/python3.10/site-packages/scipy/sparse/linalg/_dsolve/linsolve.py:285: SparseEfficiencyWarning: spsolve is more efficient when sparse b is in the CSC matrix format\n",
      "  warn('spsolve is more efficient when sparse b '\n"
     ]
    }
   ],
   "source": [
    "X, Y = sp.random(train.shape[0], k, density=0.25), sp.random(train.shape[1], k, density=0.25)\n",
    "frobenius_norms = [frobenius_norm(train, X, Y)]\n",
    "for i in tqdm(range(20)):\n",
    "    X = calc_oposite_vectors(Y, train)\n",
    "    frobenius_norms.append(frobenius_norm(train, X, Y))\n",
    "    Y = calc_oposite_vectors(X, train.T)\n",
    "    frobenius_norms.append(frobenius_norm(train, X, Y))"
   ]
  },
  {
   "cell_type": "code",
   "execution_count": 85,
   "id": "415a29e7-a3bd-4ee3-81ec-88e7c7db44de",
   "metadata": {},
   "outputs": [],
   "source": [
    "test_user_embs = calc_oposite_vectors(Y, test)\n",
    "test_als = test_user_embs.dot(Y.T)\n",
    "als_preds = np.flip(np.argsort(test_als.toarray()), axis=1)"
   ]
  },
  {
   "cell_type": "markdown",
   "id": "960eeafc-c60f-44ff-b3ed-871d7fe62101",
   "metadata": {
    "tags": []
   },
   "source": [
    "### 2.3 IALS"
   ]
  },
  {
   "cell_type": "code",
   "execution_count": 73,
   "id": "a4ec360f-2ea4-4f6d-b432-c119129d121b",
   "metadata": {},
   "outputs": [],
   "source": [
    "def get_ials_recommends(recommender, data):\n",
    "    result = []\n",
    "    for user_id in tqdm(range(data.shape[0])):\n",
    "        result.append(recommender.recommend(user_id, data[user_id], 100)[0])\n",
    "    return np.array(result)"
   ]
  },
  {
   "cell_type": "code",
   "execution_count": 75,
   "id": "8c514bac-fbf9-4d67-b807-01a617608694",
   "metadata": {},
   "outputs": [
    {
     "data": {
      "application/json": {
       "ascii": false,
       "bar_format": null,
       "colour": null,
       "elapsed": 0.0062868595123291016,
       "initial": 0,
       "n": 0,
       "ncols": null,
       "nrows": 44,
       "postfix": null,
       "prefix": "",
       "rate": null,
       "total": 5019,
       "unit": "it",
       "unit_divisor": 1000,
       "unit_scale": false
      },
      "application/vnd.jupyter.widget-view+json": {
       "model_id": "310f04c7b8e142369b62822d0dd1bd6e",
       "version_major": 2,
       "version_minor": 0
      },
      "text/plain": [
       "  0%|          | 0/5019 [00:00<?, ?it/s]"
      ]
     },
     "metadata": {},
     "output_type": "display_data"
    },
    {
     "data": {
      "application/json": {
       "ascii": false,
       "bar_format": null,
       "colour": null,
       "elapsed": 0.0047800540924072266,
       "initial": 0,
       "n": 0,
       "ncols": null,
       "nrows": 44,
       "postfix": null,
       "prefix": "",
       "rate": null,
       "total": 758,
       "unit": "it",
       "unit_divisor": 1000,
       "unit_scale": false
      },
      "application/vnd.jupyter.widget-view+json": {
       "model_id": "76621f92f4f447f4af8c8fa1e3662cd4",
       "version_major": 2,
       "version_minor": 0
      },
      "text/plain": [
       "  0%|          | 0/758 [00:00<?, ?it/s]"
      ]
     },
     "metadata": {},
     "output_type": "display_data"
    },
    {
     "name": "stderr",
     "output_type": "stream",
     "text": [
      "/var/folders/qg/qf0y_9l119xdw7z_0pj_zsrc0000gn/T/ipykernel_10447/1391948487.py:5: VisibleDeprecationWarning: Creating an ndarray from ragged nested sequences (which is a list-or-tuple of lists-or-tuples-or ndarrays with different lengths or shapes) is deprecated. If you meant to do this, you must specify 'dtype=object' when creating the ndarray.\n",
      "  return np.array(result)\n"
     ]
    }
   ],
   "source": [
    "recommender = ItemItemRecommender()\n",
    "recommender.fit(train)\n",
    "ials_preds = get_ials_recommends(recommender, test)"
   ]
  },
  {
   "cell_type": "code",
   "execution_count": 76,
   "id": "09c95298-8e14-4920-9e1e-f3f8403ca2d9",
   "metadata": {
    "tags": []
   },
   "outputs": [
    {
     "data": {
      "text/plain": [
       "array([  18,    6,   39,    3,   58,   12,  305,    2,  141,   60,   20,\n",
       "         52,   41,   22,   26,   35,   17,  207,   95,  774,  325,  319,\n",
       "        111,   73,    7, 2487, 1341, 1180,  786,  492,  273,  121,  107,\n",
       "         66, 1313,  856,  746,  255,   62, 1346,  176,  164,   89,   86,\n",
       "         81,   27, 4402, 1967, 1044, 1021,  388,  345,  205,  188,   97,\n",
       "         92,   59, 2385, 2003, 1748, 1382, 1365, 1170,  784,  630,  487,\n",
       "        476,  469,  387,  303,  295,  289,  259,  250,  124,   25,   14,\n",
       "       3206, 2509, 2304, 2273, 2042, 1642, 1500, 1288, 1269, 1193,  935,\n",
       "        896,  799,  649,  554,  353,  347,  339,  260,  243,  215,  181,\n",
       "        157], dtype=int32)"
      ]
     },
     "execution_count": 76,
     "metadata": {},
     "output_type": "execute_result"
    }
   ],
   "source": [
    "ials_preds[0]"
   ]
  },
  {
   "cell_type": "markdown",
   "id": "f4f80ffe-ac97-44d1-a2c4-883e6bd63740",
   "metadata": {},
   "source": [
    "## 3. Результаты"
   ]
  },
  {
   "cell_type": "code",
   "execution_count": 93,
   "id": "76c5f853-12c9-4a77-84e9-7278beae3927",
   "metadata": {},
   "outputs": [
    {
     "name": "stdout",
     "output_type": "stream",
     "text": [
      "i2i:  0.018\n",
      "IALS: 0.0177\n",
      "ALS:  0.0124\n"
     ]
    }
   ],
   "source": [
    "print(f'i2i:  {round(get_mrr(y, i2i_preds), 4)}')\n",
    "print(f'IALS: {round(get_mrr(y, ials_preds), 4)}')\n",
    "print(f'ALS:  {round(get_mrr(y, als_preds[:, :100]),4)}')"
   ]
  }
 ],
 "metadata": {
  "finalized": {
   "timestamp": 1686173501421,
   "trusted": false
  },
  "kernelspec": {
   "display_name": "Python 3 (ipykernel)",
   "language": "python",
   "name": "python3"
  },
  "language_info": {
   "codemirror_mode": {
    "name": "ipython",
    "version": 3
   },
   "file_extension": ".py",
   "mimetype": "text/x-python",
   "name": "python",
   "nbconvert_exporter": "python",
   "pygments_lexer": "ipython3",
   "version": "3.10.8"
  },
  "toc": {
   "base_numbering": 1,
   "nav_menu": {},
   "number_sections": true,
   "sideBar": true,
   "skip_h1_title": false,
   "title_cell": "Table of Contents",
   "title_sidebar": "Contents",
   "toc_cell": false,
   "toc_position": {},
   "toc_section_display": true,
   "toc_window_display": true
  }
 },
 "nbformat": 4,
 "nbformat_minor": 5
}
